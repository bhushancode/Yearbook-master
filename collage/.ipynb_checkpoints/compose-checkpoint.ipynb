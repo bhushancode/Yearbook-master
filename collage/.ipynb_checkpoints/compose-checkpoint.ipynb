{
 "cells": [
  {
   "cell_type": "code",
   "execution_count": 1,
   "metadata": {},
   "outputs": [],
   "source": [
    "import os, errno\n",
    "import shutil"
   ]
  },
  {
   "cell_type": "code",
   "execution_count": 8,
   "metadata": {},
   "outputs": [],
   "source": [
    "ROOT_DIR = \"../\"\n",
    "BATCH_SIZE = 8"
   ]
  },
  {
   "cell_type": "code",
   "execution_count": 9,
   "metadata": {},
   "outputs": [
    {
     "name": "stdout",
     "output_type": "stream",
     "text": [
      "['certs', '.idea', '.git', 'yearbook', 'yb', 'Documentation', 'myapp', '.gitsecret', 'Scrape', 'collage', 'media']\n"
     ]
    }
   ],
   "source": [
    "dirs = [f for f in os.listdir(ROOT_DIR) if os.path.isdir(os.path.join(ROOT_DIR, f))]\n",
    "print(dirs)"
   ]
  },
  {
   "cell_type": "code",
   "execution_count": 4,
   "metadata": {},
   "outputs": [],
   "source": [
    "\n",
    "# current_dir = os.path.join(ROOT_DIR, dirs[0])\n",
    "for current_dir in dirs[:-1]:\n",
    "#     print (current_dir)\n",
    "    img_names = [f for f in os.listdir(current_dir) if os.path.isfile(os.path.join(current_dir, f))]\n",
    "#     print (img_names)\n",
    "    folder_count = 0\n",
    "    while (img_names != []):\n",
    "        folder_path = os.path.join(current_dir, str(folder_count))\n",
    "        print (folder_path)\n",
    "#         break\n",
    "        try : \n",
    "            os.makedirs(folder_path)\n",
    "        except OSError as e:\n",
    "            if e.errno != errno.EEXIST:\n",
    "                raise\n",
    "            folder_count += 1\n",
    "            continue\n",
    "        img_names = [f for f in os.listdir(current_dir) if os.path.isfile(os.path.join(current_dir, f))]\n",
    "        for i in range(BATCH_SIZE):\n",
    "            try : \n",
    "                oldfilepath = os.path.join(current_dir,img_names[i])\n",
    "                newfilepath = os.path.join(folder_path,img_names[i])\n",
    "            except Exception as e : \n",
    "                print (e)\n",
    "                break\n",
    "            shutil.move(oldfilepath,newfilepath)\n",
    "\n",
    "        folder_count += 1\n",
    "        img_names = [f for f in os.listdir(current_dir) if os.path.isfile(os.path.join(current_dir, f))]\n",
    "\n",
    "    "
   ]
  },
  {
   "cell_type": "code",
   "execution_count": 5,
   "metadata": {
    "scrolled": false
   },
   "outputs": [],
   "source": [
    "import collage_maker\n",
    "\n",
    "for current_dir in dirs[:-1]:\n",
    "#     print (current_dir)\n",
    "    dir_names = [f for f in os.listdir(current_dir) if os.path.isdir(os.path.join(current_dir, f))]\n",
    "#     print (img_names)\n",
    "#     i = 0\n",
    "    for folder in dir_names:\n",
    "        folder_path = os.path.join(current_dir, folder)\n",
    "        print (folder_path)\n",
    "        args = {'folder':folder_path, 'width':850 , 'init_height':720, 'shuffle' : True , 'output' : os.path.join(current_dir,'out_'+folder+'.jpg')}\n",
    "#         inside_path = os.path.join(folder_path)\n",
    "        collage_maker.prepare(args)\n",
    "#         i += 1\n",
    "        \n",
    "\n",
    "    "
   ]
  },
  {
   "cell_type": "code",
   "execution_count": 6,
   "metadata": {},
   "outputs": [],
   "source": [
    "import subprocess\n",
    "\n",
    "for current_dir in dirs[:-1]:\n",
    "    print (current_dir)\n",
    "    dir_names = [f for f in os.listdir(current_dir) if os.path.isdir(os.path.join(current_dir, f))]\n",
    "#     print (dir_names)\n",
    "    \n",
    "#     for folder in dir_names:\n",
    "#         folder_path = os.path.join(current_dir, folder)\n",
    "#         print (folder_path)\n",
    "        \n",
    "#         bashCommand = 'convert \"%s/out*.jpg\" %s.pdf'%(folder_path, folder_path)\n",
    "#         print(bashCommand)\n",
    "#         process = subprocess.Popen(bashCommand.split(), stdout=subprocess.PIPE)\n",
    "#         output, error = process.communicate()\n",
    "#         print(output)\n",
    "\n",
    "\n",
    "    "
   ]
  },
  {
   "cell_type": "code",
   "execution_count": null,
   "metadata": {},
   "outputs": [],
   "source": []
  }
 ],
 "metadata": {
  "kernelspec": {
   "display_name": "Python 3",
   "language": "python",
   "name": "python3"
  },
  "language_info": {
   "codemirror_mode": {
    "name": "ipython",
    "version": 3
   },
   "file_extension": ".py",
   "mimetype": "text/x-python",
   "name": "python",
   "nbconvert_exporter": "python",
   "pygments_lexer": "ipython3",
   "version": "3.6.7"
  }
 },
 "nbformat": 4,
 "nbformat_minor": 2
}
